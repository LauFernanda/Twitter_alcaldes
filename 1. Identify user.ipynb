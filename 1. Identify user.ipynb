{
 "cells": [
  {
   "cell_type": "code",
   "execution_count": 1,
   "metadata": {},
   "outputs": [],
   "source": [
    "from googlesearch import search\n",
    "from urllib.parse import urlparse\n"
   ]
  },
  {
   "cell_type": "code",
   "execution_count": 2,
   "metadata": {},
   "outputs": [],
   "source": [
    "def identify_twitter (nombre):\n",
    "    \n",
    "\n",
    "    query= nombre +\" twitter\"\n",
    "    print(query)\n",
    "    count=0\n",
    "    username=None\n",
    "    while username is None:\n",
    "        response = search(query, tld=\"co.in\", num=1, stop=1, pause=2)\n",
    "        count+=1\n",
    "        for result in response:\n",
    "            parsed_url=urlparse(result)\n",
    "            if \"twitter\" in parsed_url.hostname:\n",
    "                if \"status\" not in parsed_url.path:\n",
    "                    username=parsed_url.path\n",
    "        if count>=10:\n",
    "            break\n",
    "    return username\n",
    "    print(username,count)"
   ]
  },
  {
   "cell_type": "code",
   "execution_count": 3,
   "metadata": {},
   "outputs": [
    {
     "name": "stdout",
     "output_type": "stream",
     "text": [
      "Claudia López twitter\n"
     ]
    },
    {
     "data": {
      "text/plain": [
       "'/ClaudiaLopez'"
      ]
     },
     "execution_count": 3,
     "metadata": {},
     "output_type": "execute_result"
    }
   ],
   "source": [
    "identify_twitter (\"Claudia López\")"
   ]
  }
 ],
 "metadata": {
  "interpreter": {
   "hash": "acb62f4775cdf856116fc61883efb4aa59e52a8455628776afd3679b5c9f734b"
  },
  "kernelspec": {
   "display_name": "Python 3.7.4 64-bit ('base': conda)",
   "language": "python",
   "name": "python3"
  },
  "language_info": {
   "codemirror_mode": {
    "name": "ipython",
    "version": 3
   },
   "file_extension": ".py",
   "mimetype": "text/x-python",
   "name": "python",
   "nbconvert_exporter": "python",
   "pygments_lexer": "ipython3",
   "version": "3.7.4"
  },
  "orig_nbformat": 4
 },
 "nbformat": 4,
 "nbformat_minor": 2
}
